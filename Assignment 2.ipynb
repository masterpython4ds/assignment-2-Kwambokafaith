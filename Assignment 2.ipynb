{
 "cells": [
  {
   "cell_type": "markdown",
   "metadata": {},
   "source": [
    "We will be looking at a competition on Kaggle: Climate Change: Earth Surface Temperature Data.\n",
    "Some say climate change is the biggest threat of our age while others say it’s a myth based on dodgy science. We are turning some of the data over to you so you can form your own view."
   ]
  },
  {
   "cell_type": "code",
   "execution_count": null,
   "metadata": {},
   "outputs": [],
   "source": [
    "#Importing Libraries\n",
    "import pandas as pd\n",
    "import numpy as np\n",
    "import matplotlib.pyplot as plt\n",
    "import seaborn as sns\n",
    "%matplotlib inline\n",
    "import warnings\n",
    "warnings.filterwarnings('ignore')"
   ]
  },
  {
   "cell_type": "code",
   "execution_count": null,
   "metadata": {},
   "outputs": [],
   "source": [
    "#Reading the data\n",
    "global_temp_city=pd.read_csv('GlobalLandTemperaturesByCity.csv')\n",
    "global_temp_country=pd.read_csv('GlobalLandTemperaturesByCountry.csv')\n",
    "global_temp_major_city=pd.read_csv('GlobalLandTemperaturesByMajorCity.csv')\n",
    "global_temp_state=pd.read_csv('GlobalLandTemperaturesByState.csv')\n",
    "global_temp=pd.read_csv('GlobalTemperatures.csv')"
   ]
  },
  {
   "cell_type": "code",
   "execution_count": null,
   "metadata": {},
   "outputs": [],
   "source": [
    "#Previewing the data\n",
    "global_temp_city.head()"
   ]
  },
  {
   "cell_type": "code",
   "execution_count": null,
   "metadata": {},
   "outputs": [],
   "source": [
    "global_temp_country.head()"
   ]
  },
  {
   "cell_type": "code",
   "execution_count": null,
   "metadata": {},
   "outputs": [],
   "source": [
    "global_temp_major_city.head()"
   ]
  },
  {
   "cell_type": "code",
   "execution_count": null,
   "metadata": {},
   "outputs": [],
   "source": [
    "global_temp_state.head()"
   ]
  },
  {
   "cell_type": "code",
   "execution_count": null,
   "metadata": {},
   "outputs": [],
   "source": [
    "global_temp.head()"
   ]
  },
  {
   "cell_type": "code",
   "execution_count": null,
   "metadata": {},
   "outputs": [],
   "source": [
    "#Reshapin the data\n",
    "#Dropping unneccssary columns\n",
    "global_temp=global_temp[['dt','LandAverageTemperature']]\n",
    "global_temp.head()"
   ]
  },
  {
   "cell_type": "markdown",
   "metadata": {},
   "source": [
    "#The Land Average Temperature per season"
   ]
  },
  {
   "cell_type": "code",
   "execution_count": null,
   "metadata": {},
   "outputs": [],
   "source": [
    "#Obtaining seasons from the data\n",
    "#Setting the 'dt' column to datetime format\n",
    "global_temp['dt']=pd.to_datetime(global_temp['dt'])\n",
    "global_temp['year'] = global_temp['dt'].map(lambda x: x.year)\n",
    "global_temp['month'] = global_temp['dt'].map(lambda x: x.month)\n",
    "\n",
    "def get_season(month):\n",
    "    if month >= 3 and month <= 5:\n",
    "        return 'spring'\n",
    "    elif month >= 6 and month <= 8:\n",
    "        return 'summer'\n",
    "    elif month >= 9 and month <= 11:\n",
    "        return 'autumn'\n",
    "    else:\n",
    "        return 'winter'\n",
    "    \n",
    "global_temp['season'] = global_temp['month'].apply(get_season)\n",
    "\n",
    "min_year = global_temp['year'].min()\n",
    "max_year = global_temp['year'].max()\n",
    "years = range(min_year, max_year + 1)\n",
    "\n",
    "spring_temps = []\n",
    "summer_temps = []\n",
    "autumn_temps = []\n",
    "winter_temps = []\n",
    "\n",
    "for year in years:\n",
    "    curr_years_data = global_temp[global_temp['year'] == year]\n",
    "    spring_temps.append(curr_years_data[curr_years_data['season'] == 'spring']['LandAverageTemperature'].mean())\n",
    "    summer_temps.append(curr_years_data[curr_years_data['season'] == 'summer']['LandAverageTemperature'].mean())\n",
    "    autumn_temps.append(curr_years_data[curr_years_data['season'] == 'autumn']['LandAverageTemperature'].mean())\n",
    "    winter_temps.append(curr_years_data[curr_years_data['season'] == 'winter']['LandAverageTemperature'].mean())\n"
   ]
  },
  {
   "cell_type": "code",
   "execution_count": null,
   "metadata": {},
   "outputs": [],
   "source": [
    "global_temp.head()"
   ]
  },
  {
   "cell_type": "code",
   "execution_count": null,
   "metadata": {},
   "outputs": [],
   "source": [
    "sns.set(style=\"darkgrid\")\n",
    "f, ax = plt.subplots(figsize=(12, 8))\n",
    "\n",
    "plt.plot(years, summer_temps, label='Summer average temperature', color='red')\n",
    "plt.plot(years, autumn_temps, label='Autumn average temperature', color='green')\n",
    "plt.plot(years, spring_temps, label='Spring average temperature', color='blue')\n",
    "plt.plot(years, winter_temps, label='Winter average temperature', color='yellow')\n",
    "\n",
    "plt.xlim(min_year, max_year)\n",
    "\n",
    "ax.set_ylabel('Average temperature')\n",
    "ax.set_xlabel('Year')\n",
    "ax.set_title('Average annual temperature per season')\n",
    "legend = plt.legend(loc='center left', bbox_to_anchor=(1, 0.5), frameon=True, borderpad=1, borderaxespad=1)"
   ]
  },
  {
   "cell_type": "markdown",
   "metadata": {},
   "source": [
    "# Use of Choropleth"
   ]
  },
  {
   "cell_type": "code",
   "execution_count": null,
   "metadata": {},
   "outputs": [],
   "source": []
  }
 ],
 "metadata": {
  "kernelspec": {
   "display_name": "Python 3",
   "language": "python",
   "name": "python3"
  },
  "language_info": {
   "codemirror_mode": {
    "name": "ipython",
    "version": 3
   },
   "file_extension": ".py",
   "mimetype": "text/x-python",
   "name": "python",
   "nbconvert_exporter": "python",
   "pygments_lexer": "ipython3",
   "version": "3.7.6"
  }
 },
 "nbformat": 4,
 "nbformat_minor": 4
}
